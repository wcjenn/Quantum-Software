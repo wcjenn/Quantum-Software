{
 "cells": [
  {
   "cell_type": "markdown",
   "metadata": {},
   "source": [
    "# Python Programming Fundamentals\n",
    "\n",
    "This notebook contains exercises to test your understanding of basic Python concepts. Complete each code cell according to the instructions. When you run the cell, it will tell you if your answer is correct."
   ]
  },
  {
   "cell_type": "markdown",
   "metadata": {},
   "source": [
    "## Question 1: Variables and Data Types\n",
    "Create variables of different types:\n",
    "- Create an integer variable named `age` with value 25\n",
    "- Create a float variable named `height` with value 1.75\n",
    "- Create a string variable named `name` with value \"Alice\"\n",
    "- Create a boolean variable named `is_student` with value True"
   ]
  },
  {
   "cell_type": "code",
   "execution_count": 7,
   "metadata": {},
   "outputs": [
    {
     "name": "stdout",
     "output_type": "stream",
     "text": [
      "Question 1 passed!\n"
     ]
    }
   ],
   "source": [
    "# Your code here:\n",
    "age=25\n",
    "height=1.75\n",
    "name=\"Alice\"\n",
    "is_student=True\n",
    "\n",
    "# Don't modify the test code below\n",
    "assert isinstance(age, int) and age == 25\n",
    "assert isinstance(height, float) and height == 1.75\n",
    "assert isinstance(name, str) and name == \"Alice\"\n",
    "assert isinstance(is_student, bool) and is_student == True\n",
    "print(\"Question 1 passed!\")\n",
    "\n"
   ]
  },
  {
   "cell_type": "markdown",
   "metadata": {},
   "source": [
    "## Question 2: Lists and Indexing\n",
    "Create a list named `numbers` containing numbers 1 through 5, then:\n",
    "- Print the second element\n",
    "- Print the last element using negative indexing\n",
    "- Print a slice containing the second and third elements"
   ]
  },
  {
   "cell_type": "code",
   "execution_count": 10,
   "metadata": {},
   "outputs": [
    {
     "name": "stdout",
     "output_type": "stream",
     "text": [
      "2\n",
      "5\n",
      "[2, 3]\n",
      "Question 2 passed!\n"
     ]
    }
   ],
   "source": [
    "# Your code here:\n",
    "numbers=[1,2,3,4,5]\n",
    "print(numbers[1])\n",
    "print(numbers[4])\n",
    "print(numbers[1:3])\n",
    "\n",
    "# Test code\n",
    "assert numbers == [1, 2, 3, 4, 5]\n",
    "assert len(numbers) == 5\n",
    "print(\"Question 2 passed!\")"
   ]
  },
  {
   "cell_type": "markdown",
   "metadata": {},
   "source": [
    "## Question 3: Functions\n",
    "Write a function called `calculate_average` that:\n",
    "- Takes a list of numbers as input\n",
    "- Returns the average (mean) of those numbers\n",
    "- Handles empty lists by returning 0"
   ]
  },
  {
   "cell_type": "code",
   "execution_count": 19,
   "metadata": {},
   "outputs": [
    {
     "name": "stdout",
     "output_type": "stream",
     "text": [
      "Question 3 passed!\n"
     ]
    }
   ],
   "source": [
    "# Your code here:\n",
    "def calculate_average(list):\n",
    "    if not list:\n",
    "        return 0\n",
    "    return sum(list)/len(list)\n",
    "\n",
    "    calculate_average(numbers)\n",
    "\n",
    "# Test code\n",
    "test_cases = [\n",
    "    ([1, 2, 3, 4, 5], 3.0),\n",
    "    ([10], 10.0),\n",
    "    ([], 0)\n",
    "]\n",
    "\n",
    "for test_input, expected in test_cases:\n",
    "    result = calculate_average(test_input)\n",
    "    assert result == expected, f\"Failed: input {test_input}, got {result}, expected {expected}\"\n",
    "print(\"Question 3 passed!\")"
   ]
  },
  {
   "cell_type": "markdown",
   "metadata": {},
   "source": [
    "## Question 4: Dictionaries\n",
    "Create a function called `count_words` that:\n",
    "- Takes a string as input\n",
    "- Returns a dictionary where keys are words and values are the number of times each word appears\n",
    "- Ignores case (converts all words to lowercase)\n",
    "- Removes punctuation"
   ]
  },
  {
   "cell_type": "code",
   "execution_count": 12,
   "metadata": {},
   "outputs": [
    {
     "name": "stdout",
     "output_type": "stream",
     "text": [
      "Question 4 passed!\n"
     ]
    }
   ],
   "source": [
    "# Your code here:\n",
    "def count_words(s):\n",
    "    import string\n",
    "    thing = ''.join([c.lower() for c in s if c not in string.punctuation])\n",
    "    words = thing.split()\n",
    "    counts = {}\n",
    "    for word in words:\n",
    "        counts[word] = counts.get(word, 0) + 1\n",
    "    return counts\n",
    "    \n",
    "\n",
    "\n",
    "# Test code\n",
    "test_string = \"Hello World Hello Python hello WORLD\"\n",
    "result = count_words(test_string)\n",
    "assert result[\"hello\"] == 3\n",
    "assert result[\"world\"] == 2\n",
    "assert result[\"python\"] == 1\n",
    "print(\"Question 4 passed!\")"
   ]
  },
  {
   "cell_type": "markdown",
   "metadata": {},
   "source": [
    "## Question 5: Control Flow\n",
    "Write a function called `quantum_software` that:\n",
    "- Takes a number n as input\n",
    "- Returns \"Quantum\" if the number is divisible by 3\n",
    "- Returns \"Software\" if the number is divisible by 5\n",
    "- Returns \"QuantumSoftware\" if the number is divisible by both 3 and 5\n",
    "- Returns the number as a string if none of the above conditions are met"
   ]
  },
  {
   "cell_type": "code",
   "execution_count": 10,
   "metadata": {},
   "outputs": [
    {
     "name": "stdout",
     "output_type": "stream",
     "text": [
      "Question 5 passed!\n"
     ]
    }
   ],
   "source": [
    "# Your code here:\n",
    "def quantum_software(n): \n",
    "    if n % 3 == 0 and n % 5 == 0: \n",
    "        return  \"QuantumSoftware\"\n",
    "    if n % 3 == 0: \n",
    "        return \"Quantum\"\n",
    "    if n % 5 == 0: \n",
    "        return \"Software\" \n",
    "    else: \n",
    "        return str(n) \n",
    "\n",
    "# Test code\n",
    "test_cases = [\n",
    "    (15, \"QuantumSoftware\"),\n",
    "    (3, \"Quantum\"),\n",
    "    (5, \"Software\"),\n",
    "    (7, \"7\")\n",
    "]\n",
    "\n",
    "for num, expected in test_cases:\n",
    "    result = quantum_software(num)\n",
    "    assert result == expected, f\"Failed: input {num}, got {result}, expected {expected}\"\n",
    "print(\"Question 5 passed!\")"
   ]
  },
  {
   "cell_type": "markdown",
   "metadata": {},
   "source": [
    "## Question 6: Classes\n",
    "Create a class called `BankAccount` that:\n",
    "- Has attributes for `account_holder` (string) and `balance` (float)\n",
    "- Has an `__init__` method that sets these attributes\n",
    "- Has a `deposit` method that adds money to the balance\n",
    "- Has a `withdraw` method that:\n",
    "  - Subtracts money from the balance if sufficient funds exist\n",
    "  - Raises a ValueError if insufficient funds\n",
    "- Has a `get_balance` method that returns current balance"
   ]
  },
  {
   "cell_type": "code",
   "execution_count": 7,
   "metadata": {},
   "outputs": [
    {
     "name": "stdout",
     "output_type": "stream",
     "text": [
      "Question 6 passed!\n"
     ]
    }
   ],
   "source": [
    "\n",
    "class BankAccount: \n",
    "    def __init__(self, account_holder, balance): \n",
    "        self.account_holder = account_holder \n",
    "        self.balance = balance \n",
    "\n",
    "    def deposit(self, amount): \n",
    "        self.balance = self.balance + amount \n",
    "\n",
    "    def withdraw(self, amount): \n",
    "        if amount > self.balance:\n",
    "            raise ValueError(\"insufficient funds\") \n",
    "        else: \n",
    "            self.balance = self.balance - amount \n",
    "\n",
    "    def get_balance(self): \n",
    "        return self.balance \n",
    "\n",
    "        \n",
    "# Test code\n",
    "account = BankAccount(\"John Doe\", 100.0)\n",
    "assert account.account_holder == \"John Doe\"\n",
    "assert account.get_balance() == 100.0\n",
    "\n",
    "account.deposit(50.0)\n",
    "assert account.get_balance() == 150.0\n",
    "\n",
    "account.withdraw(30.0)\n",
    "assert account.get_balance() == 120.0\n",
    "\n",
    "try:\n",
    "    account.withdraw(200.0)\n",
    "    assert False, \"Should have raised ValueError\"\n",
    "except ValueError:\n",
    "    pass\n",
    "\n",
    "print(\"Question 6 passed!\")"
   ]
  }
 ],
 "metadata": {
  "kernelspec": {
   "display_name": "molssi_best_practices",
   "language": "python",
   "name": "python3"
  },
  "language_info": {
   "codemirror_mode": {
    "name": "ipython",
    "version": 3
   },
   "file_extension": ".py",
   "mimetype": "text/x-python",
   "name": "python",
   "nbconvert_exporter": "python",
   "pygments_lexer": "ipython3",
   "version": "3.11.8"
  }
 },
 "nbformat": 4,
 "nbformat_minor": 4
}
